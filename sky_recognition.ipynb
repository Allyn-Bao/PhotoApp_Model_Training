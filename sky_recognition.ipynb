{
 "cells": [
  {
   "cell_type": "markdown",
   "source": [
    "This is the script to build and train convnet model which categorize between class: sky, not sky, sunset. model is then saved to ./models folder\n"
   ],
   "metadata": {
    "collapsed": false
   }
  },
  {
   "cell_type": "code",
   "execution_count": 3,
   "outputs": [],
   "source": [
    "import os\n",
    "import tensorflow as tf"
   ],
   "metadata": {
    "collapsed": false
   }
  },
  {
   "cell_type": "markdown",
   "source": [
    "Import Images From Directory, Build Dataset"
   ],
   "metadata": {
    "collapsed": false
   }
  },
  {
   "cell_type": "code",
   "execution_count": 33,
   "outputs": [],
   "source": [
    "# import dataset from directory\n",
    "DIR_PATH = os.path.join('Detectors', 'cleaned_data', 'sky_dataset_all')\n",
    "IMAGE_SIZE = 244\n",
    "BATCH_SIZE = 32\n",
    "# =============================\n",
    "# Create Image Dataset form Directory\n",
    "# =============================\n",
    "ds_train = tf.keras.preprocessing.image_dataset_from_directory(\n",
    "    DIR_PATH,\n",
    "    labels='inferred',\n",
    "    label_mode='int',\n",
    "    color_mode='rgb',\n",
    "    batch_size=32,\n",
    "    image_size=(IMAGE_SIZE, IMAGE_SIZE),\n",
    "    shuffle=True,\n",
    "    seed=123,\n",
    "    validation_split=0.1,\n",
    "    subset='training'\n",
    "\n",
    ")\n",
    "ds_val = tf.keras.preprocessing.image_dataset_from_directory(\n",
    "    DIR_PATH,\n",
    "    labels='inferred',\n",
    "    label_mode='int',\n",
    "    color_mode='rgb',\n",
    "    batch_size=32,\n",
    "    image_size=(IMAGE_SIZE, IMAGE_SIZE),\n",
    "    shuffle=True,\n",
    "    seed=123,\n",
    "    validation_split=0.1,\n",
    "    subset='validation'\n",
    ")"
   ],
   "metadata": {
    "collapsed": false
   }
  },
  {
   "cell_type": "code",
   "execution_count": 4,
   "outputs": [],
   "source": [
    "# Visualize data\n",
    "images = None\n",
    "labels = None\n",
    "class_names = ds_train.class_names\n",
    "import matplotlib.pyplot as plt\n",
    "plt.figure(figsize=(10, 10))\n",
    "for images, labels in ds_train.take(1):\n",
    "    for i in range(5):\n",
    "        ax = plt.subplot(3, 3, i + 1)\n",
    "        plt.imshow(images[i].numpy().astype(\"uint8\"))\n",
    "        plt.title(class_names[labels[i]])\n",
    "        plt.axis(\"off\")"
   ],
   "metadata": {
    "collapsed": false
   }
  },
  {
   "cell_type": "code",
   "execution_count": 155,
   "outputs": [],
   "source": [
    "for image_batches, label_batches in ds_train:\n",
    "    print(\"image batch size:\", image_batches.shape)\n",
    "    break"
   ],
   "metadata": {
    "collapsed": false
   }
  },
  {
   "cell_type": "markdown",
   "source": [
    "Pre-Processing, rescaling, augmentation"
   ],
   "metadata": {
    "collapsed": false
   }
  },
  {
   "cell_type": "code",
   "execution_count": 34,
   "outputs": [],
   "source": [
    "# data augmentation\n",
    "with tf.device('/CPU:0'): # for Apple Silicon which does not yet support random() with GPU\n",
    "    augmentation = tf.keras.Sequential([\n",
    "        tf.keras.layers.experimental.preprocessing.RandomContrast((0.3, 0.8)),\n",
    "        tf.keras.layers.experimental.preprocessing.RandomFlip(mode=\"horizontal\"),\n",
    "        tf.keras.layers.experimental.preprocessing.RandomRotation(0.02),\n",
    "    ])"
   ],
   "metadata": {
    "collapsed": false
   }
  },
  {
   "cell_type": "code",
   "execution_count": 35,
   "outputs": [],
   "source": [
    "AUTOTUNE = tf.data.AUTOTUNE\n",
    "\n",
    "augmented_ds_train = ds_train.map(\n",
    "    lambda x, y: (augmentation(x, training=True), y),\n",
    "    num_parallel_calls=AUTOTUNE\n",
    ")\n",
    "\n",
    "augmented_ds_train = augmented_ds_train.cache()\n",
    "augmented_ds_train = augmented_ds_train.prefetch(buffer_size=10)"
   ],
   "metadata": {
    "collapsed": false
   }
  },
  {
   "cell_type": "markdown",
   "source": [
    "Build Model"
   ],
   "metadata": {
    "collapsed": false
   }
  },
  {
   "cell_type": "code",
   "execution_count": 37,
   "outputs": [],
   "source": [
    "rescaling = tf.keras.Sequential([\n",
    "    # rescaling\n",
    "    tf.keras.layers.experimental.preprocessing.Rescaling(1./255)\n",
    "])"
   ],
   "metadata": {
    "collapsed": false
   }
  },
  {
   "cell_type": "code",
   "execution_count": 56,
   "outputs": [],
   "source": [
    "model = tf.keras.models.Sequential(\n",
    "    [\n",
    "        rescaling,\n",
    "        tf.keras.layers.Conv2D(64, (3, 3), activation='relu',\n",
    "                      padding='same',\n",
    "                      kernel_regularizer=tf.keras.regularizers.l2(0.01)),\n",
    "        # tf.keras.layers.BatchNormalization(axis=3),\n",
    "        tf.keras.layers.MaxPooling2D((2, 2)),\n",
    "        tf.keras.layers.Conv2D(64, (3, 3), activation='relu',\n",
    "                      padding='same',\n",
    "                      kernel_regularizer=tf.keras.regularizers.l2(0.01)),\n",
    "        # tf.keras.layers.BatchNormalization(axis=3),\n",
    "        tf.keras.layers.MaxPooling2D((2, 2)),\n",
    "        tf.keras.layers.Conv2D(64, (3, 3), activation='relu',\n",
    "                      padding='same',\n",
    "                      kernel_regularizer=tf.keras.regularizers.l2(0.01)),\n",
    "        # tf.keras.layers.BatchNormalization(axis=3),\n",
    "        tf.keras.layers.MaxPooling2D((2, 2)),\n",
    "        tf.keras.layers.Conv2D(32, (3, 3), activation='relu',\n",
    "                      padding='same',\n",
    "                      kernel_regularizer=tf.keras.regularizers.l2(0.01)),\n",
    "        # tf.keras.layers.BatchNormalization(axis=3),\n",
    "        tf.keras.layers.MaxPooling2D((2, 2)),\n",
    "        tf.keras.layers.GlobalAveragePooling2D(),\n",
    "        tf.keras.layers.Dense(3, activation='softmax')\n",
    "    ]\n",
    ")"
   ],
   "metadata": {
    "collapsed": false
   }
  },
  {
   "cell_type": "code",
   "execution_count": null,
   "outputs": [],
   "source": [
    "model.build(input_shape=(None, IMAGE_SIZE, IMAGE_SIZE, 3))\n",
    "model.summary()"
   ],
   "metadata": {
    "collapsed": false,
    "pycharm": {
     "is_executing": true
    }
   }
  },
  {
   "cell_type": "code",
   "execution_count": 60,
   "outputs": [],
   "source": [
    "model.compile(optimizer='adam',\n",
    "              loss=tf.keras.losses.SparseCategoricalCrossentropy(from_logits=True),\n",
    "              metrics=['accuracy'])"
   ],
   "metadata": {
    "collapsed": false
   }
  },
  {
   "cell_type": "code",
   "execution_count": null,
   "outputs": [],
   "source": [
    "history = model.fit(augmented_ds_train, epochs=20, validation_data=ds_val)"
   ],
   "metadata": {
    "collapsed": false,
    "pycharm": {
     "is_executing": true
    }
   }
  },
  {
   "cell_type": "code",
   "execution_count": null,
   "outputs": [],
   "source": [
    "test_loss, test_acc = model.evaluate(ds_val)\n",
    "print(test_acc)"
   ],
   "metadata": {
    "collapsed": false,
    "pycharm": {
     "is_executing": true
    }
   }
  },
  {
   "cell_type": "code",
   "execution_count": 64,
   "outputs": [
    {
     "data": {
      "text/plain": "<Figure size 640x480 with 1 Axes>",
      "image/png": "[encoded data removed]"
     },
     "metadata": {},
     "output_type": "display_data"
    }
   ],
   "source": [
    "acc = history.history['accuracy']\n",
    "# print(acc)\n",
    "\n",
    "plt.plot(acc)\n",
    "plt.show()"
   ],
   "metadata": {
    "collapsed": false
   }
  },
  {
   "cell_type": "code",
   "execution_count": 65,
   "outputs": [],
   "source": [],
   "metadata": {
    "collapsed": false
   }
  },
  {
   "cell_type": "markdown",
   "source": [],
   "metadata": {
    "collapsed": false
   }
  },
  {
   "cell_type": "code",
   "execution_count": null,
   "outputs": [],
   "source": [
    "model = tf.keras.models.load_model(os.path.join(\"models\", \"sky_recognition_basic_v2.h5\"))"
   ],
   "metadata": {
    "collapsed": false,
    "pycharm": {
     "is_executing": true
    }
   }
  },
  {
   "cell_type": "code",
   "execution_count": null,
   "outputs": [],
   "source": [
    "# test sample images:\n",
    "import os\n",
    "import numpy as np\n",
    "import matplotlib.pyplot as plt\n",
    "SAMPLE_DIR = os.path.join('Detectors', 'sample_images', 'sky_testing')\n",
    "IMAGE_SIZE = 244\n",
    "class_names = ['no_sky', 'sky', 'sunset']\n",
    "\n",
    "ds_testing = tf.keras.preprocessing.image_dataset_from_directory(\n",
    "    SAMPLE_DIR,\n",
    "    label_mode=None,\n",
    "    color_mode='rgb',\n",
    "    batch_size=32,\n",
    "    image_size=(IMAGE_SIZE, IMAGE_SIZE),\n",
    "    shuffle=True,\n",
    "    seed=123,\n",
    "    validation_split=None\n",
    ")"
   ],
   "metadata": {
    "collapsed": false,
    "pycharm": {
     "is_executing": true
    }
   }
  },
  {
   "cell_type": "code",
   "execution_count": 10,
   "outputs": [],
   "source": [
    "def get_prediction(prediction, _class_names):\n",
    "    one_hot_array = prediction[0]\n",
    "    max_confidence = max(one_hot_array)\n",
    "    if max_confidence < 0.5:\n",
    "        return 'unsure'\n",
    "    else:\n",
    "        return _class_names[one_hot_array.argmax()]"
   ],
   "metadata": {
    "collapsed": false
   }
  },
  {
   "cell_type": "code",
   "execution_count": null,
   "outputs": [],
   "source": [
    "for images in ds_testing:\n",
    "    for i in range(24):\n",
    "        image = images[i]\n",
    "        plt.imshow(image.numpy().astype(\"uint8\"))\n",
    "        predictions = model.predict(np.expand_dims(image, axis=0))\n",
    "        plt.title(get_prediction(predictions, class_names))\n",
    "        plt.show()"
   ],
   "metadata": {
    "collapsed": false,
    "pycharm": {
     "is_executing": true
    }
   }
  }
 ],
 "metadata": {
  "kernelspec": {
   "display_name": "Python 3",
   "language": "python",
   "name": "python3"
  },
  "language_info": {
   "codemirror_mode": {
    "name": "ipython",
    "version": 2
   },
   "file_extension": ".py",
   "mimetype": "text/x-python",
   "name": "python",
   "nbconvert_exporter": "python",
   "pygments_lexer": "ipython2",
   "version": "2.7.6"
  }
 },
 "nbformat": 4,
 "nbformat_minor": 0
}
